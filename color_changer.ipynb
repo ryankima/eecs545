{
 "cells": [
  {
   "cell_type": "code",
   "execution_count": 1,
   "metadata": {},
   "outputs": [],
   "source": [
    "import pandas as pd\n",
    "\n",
    "# Load the two CSV files\n",
    "og_df = pd.read_csv('og_train_dataset_with_labeled_cancer_and_skin_tone.csv')\n",
    "train_df = pd.read_csv('train_labeled.csv')\n",
    "\n",
    "# Create a mapping from isic_id to skin_tone using the original dataset\n",
    "skin_tone_map = og_df.set_index('isic_id')['skin_tone'].to_dict()\n",
    "\n",
    "# Update the skin_tone column in train_df based on the mapping\n",
    "train_df['skin_tone'] = train_df['isic_id'].map(skin_tone_map)\n",
    "\n",
    "# Save the updated DataFrame if needed\n",
    "train_df.to_csv('train_labeled.csv', index=False)"
   ]
  },
  {
   "cell_type": "code",
   "execution_count": 2,
   "metadata": {},
   "outputs": [],
   "source": [
    "import pandas as pd\n",
    "import re\n",
    "\n",
    "# Load the data\n",
    "og_df = pd.read_csv('og_train_dataset_with_labeled_cancer_and_skin_tone.csv')\n",
    "train_df = pd.read_csv('cleaned_styled_data/cleaned_augmented_data_with_labeled_cancer.csv')\n",
    "\n",
    "# Create a mapping from isic_id to skin_tone\n",
    "skin_tone_map = og_df.set_index('isic_id')['skin_tone'].to_dict()\n",
    "\n",
    "# Function to extract relevant ISIC ID\n",
    "def extract_relevant_id(isic_id):\n",
    "    # If \"stylized\" format is used, take the second ISIC ID\n",
    "    if \"stylized\" in isic_id:\n",
    "        match = re.search(r'stylized_(ISIC_\\d+)', isic_id)\n",
    "        if match:\n",
    "            return match.group(1)\n",
    "    return isic_id\n",
    "\n",
    "# Apply extraction and map to skin tone\n",
    "train_df['skin_tone'] = train_df['isic_id'].apply(extract_relevant_id).map(skin_tone_map)\n",
    "\n",
    "# Save updated DataFrame\n",
    "train_df.to_csv('cleaned_styled_data/_updated.csv', index=False)"
   ]
  },
  {
   "cell_type": "code",
   "execution_count": null,
   "metadata": {},
   "outputs": [],
   "source": []
  }
 ],
 "metadata": {
  "kernelspec": {
   "display_name": "base",
   "language": "python",
   "name": "python3"
  },
  "language_info": {
   "codemirror_mode": {
    "name": "ipython",
    "version": 3
   },
   "file_extension": ".py",
   "mimetype": "text/x-python",
   "name": "python",
   "nbconvert_exporter": "python",
   "pygments_lexer": "ipython3",
   "version": "3.11.3"
  }
 },
 "nbformat": 4,
 "nbformat_minor": 2
}
